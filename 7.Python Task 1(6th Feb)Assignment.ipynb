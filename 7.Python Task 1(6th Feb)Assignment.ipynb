{
 "cells": [
  {
   "cell_type": "markdown",
   "id": "22597ee3-620a-44e7-be30-3cb62fe52698",
   "metadata": {},
   "source": [
    "# Q1. Create a function which will take a list as an argument and return the product of all the numbers after creating a flat list. Use the below-given list as an argument for your function. \n",
    "# list1 = [1,2,3,4, [44,55,66, True], False, (34,56,78,89,34), {1,2,3,3,2,1}, {1:34, \"key2\": [55, 67, 78, 89], 4: (45,22, 61, 34)}, [56, 'data science'], 'Machine Learning']\n",
    "# Note: you must extract numeric keys and values of the dictionary also."
   ]
  },
  {
   "cell_type": "markdown",
   "id": "cd5bc91c-e36e-4529-bc00-5d746b221b71",
   "metadata": {},
   "source": [
    "# Ans :"
   ]
  },
  {
   "cell_type": "code",
   "execution_count": 7,
   "id": "e86e91ac-cf11-411c-954d-ea58a9032983",
   "metadata": {},
   "outputs": [],
   "source": [
    "def product_of_numbers(lst):\n",
    "    flat_list = []\n",
    "    for item in lst:\n",
    "        if type(item) == list or type(item) == tuple or type(item) == set:\n",
    "            flat_list.extend(list(filter(lambda x: type(x) == int or type(x) == float, item))) # we can use += instead of extend().\n",
    "        elif type(item) == dict:\n",
    "            for key, value in item.items():\n",
    "                if type(key) == int or type(key) == float:\n",
    "                    flat_list.append(key)\n",
    "                if type(value) == int or type(value) == float:\n",
    "                    flat_list.append(value)\n",
    "        elif type(item) == int or type(item) == float:\n",
    "            flat_list.append(item)\n",
    "\n",
    "    product = 1\n",
    "    for num in flat_list:\n",
    "        product *= num\n",
    "\n",
    "    return product\n"
   ]
  },
  {
   "cell_type": "code",
   "execution_count": 8,
   "id": "f3411ac2-c4b0-49ef-ad26-9a5778fadcd3",
   "metadata": {},
   "outputs": [
    {
     "name": "stdout",
     "output_type": "stream",
     "text": [
      "78718933113238978560\n"
     ]
    }
   ],
   "source": [
    "list1 = [1,2,3,4, [44,55,66, True], False, (34,56,78,89,34), {1,2,3,3,2,1}, {1:34, \"key2\": [55, 67, 78, 89], 4: (45,22, 61, 34)}, [56, 'data science'], 'Machine Learning']\n",
    "print(product_of_numbers(list1))\n"
   ]
  },
  {
   "cell_type": "markdown",
   "id": "90a0bcf1-1b04-4112-b83c-d5ab9602d728",
   "metadata": {},
   "source": [
    "# Q2. Write a python program for encrypting a message sent to you by your friend. The logic of encryption should be such that, for a the output should be z. For b, the output should be y. For c, the output should be x respectively. Also, the whitespace should be replaced with a dollar sign. Keep the punctuation marks unchanged.\n",
    "# Input Sentence: I want to become a Data Scientist.\n",
    "# Encrypt the above input sentence using the program you just created.\n",
    "# Note: Convert the given input sentence into lowercase before encrypting. The final output should be lowercase."
   ]
  },
  {
   "cell_type": "markdown",
   "id": "5ed2757e-9dad-46c1-8fe9-40513169b7dc",
   "metadata": {},
   "source": [
    "# Ans :"
   ]
  },
  {
   "cell_type": "code",
   "execution_count": 1,
   "id": "883b252f-f203-46e7-abc5-1992bc901cfc",
   "metadata": {},
   "outputs": [
    {
     "name": "stdout",
     "output_type": "stream",
     "text": [
      "Encrypted message: r$dzmg$gl$yvxlnv$z$wzgz$hxrvmgrhg.\n"
     ]
    }
   ],
   "source": [
    "def encrypt_message(message):\n",
    "    encrypted_message = \"\"\n",
    "    for char in message.lower():\n",
    "        if char == ' ':\n",
    "            encrypted_message += '$'\n",
    "        elif char.isalpha():\n",
    "            encrypted_char = chr(ord('a') + (25 - (ord(char) - ord('a'))))\n",
    "            encrypted_message += encrypted_char\n",
    "        else:\n",
    "            encrypted_message += char\n",
    "    return encrypted_message\n",
    "\n",
    "input_sentence = \"I want to become a Data Scientist.\"\n",
    "encrypted_sentence = encrypt_message(input_sentence)\n",
    "print(\"Encrypted message:\", encrypted_sentence)\n"
   ]
  },
  {
   "cell_type": "code",
   "execution_count": null,
   "id": "c9bf93a2-146b-4b91-861b-8d9f2a9e02d8",
   "metadata": {},
   "outputs": [],
   "source": []
  }
 ],
 "metadata": {
  "kernelspec": {
   "display_name": "Python 3 (ipykernel)",
   "language": "python",
   "name": "python3"
  },
  "language_info": {
   "codemirror_mode": {
    "name": "ipython",
    "version": 3
   },
   "file_extension": ".py",
   "mimetype": "text/x-python",
   "name": "python",
   "nbconvert_exporter": "python",
   "pygments_lexer": "ipython3",
   "version": "3.10.8"
  }
 },
 "nbformat": 4,
 "nbformat_minor": 5
}
